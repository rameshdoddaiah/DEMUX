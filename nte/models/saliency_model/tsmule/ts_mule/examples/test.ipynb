{
 "cells": [
  {
   "cell_type": "code",
   "execution_count": null,
   "metadata": {},
   "outputs": [],
   "source": [
    "# !python3 -m pip install rainbow-print\n",
    "import sys\n",
    "sys.path.append(\"/Users/prathyushsp/Git/TimeSeriesSaliencyMaps/nte/models/saliency_model/tsmule/ts-mule\")\n",
    "sys.path.append(\"/Users/prathyushsp/Git/TimeSeriesSaliencyMaps\")\n",
    "\n",
    "from tsmule.xai.lime import LimeTS\n",
    "from nte.data.real.univariate.binary.gun_point.GunPointDataset import GunPointDataset\n",
    "import random\n",
    "import numpy as np\n",
    "\n",
    "\n",
    "\n",
    "data = GunPointDataset()\n",
    "\n",
    "\n",
    "def predict_fn(*args):\n",
    "    return random.uniform(0, 1)\n",
    "\n",
    "\n"
   ]
  },
  {
   "cell_type": "code",
   "execution_count": null,
   "metadata": {},
   "outputs": [],
   "source": [
    "\n",
    "explainer = LimeTS()\n",
    "exp = explainer.explain(x=data.train_data[0].reshape([-1, 1]), predict_fn=predict_fn, segmentation_method=\"slopes-sorted\")\n"
   ]
  }
 ],
 "metadata": {
  "interpreter": {
   "hash": "daed6faf75d711acd407f183674f3b897d7613c0e41a417fac92b0dc0d88d5c4"
  },
  "kernelspec": {
   "display_name": "Python 3.9.12 ('research')",
   "language": "python",
   "name": "python3"
  },
  "language_info": {
   "codemirror_mode": {
    "name": "ipython",
    "version": 3
   },
   "file_extension": ".py",
   "mimetype": "text/x-python",
   "name": "python",
   "nbconvert_exporter": "python",
   "pygments_lexer": "ipython3",
   "version": "3.9.12"
  },
  "orig_nbformat": 4
 },
 "nbformat": 4,
 "nbformat_minor": 2
}
